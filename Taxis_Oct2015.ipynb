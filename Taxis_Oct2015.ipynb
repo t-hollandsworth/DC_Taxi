{
 "cells": [
  {
   "cell_type": "code",
   "execution_count": 1,
   "metadata": {},
   "outputs": [],
   "source": [
    "import pandas as pd\n",
    "import geopandas as gpd #used for transforming geolocation data\n",
    "import matplotlib.pyplot as plt\n",
    "\n",
    "from datetime import datetime  #to convert data to datetime that does not fall within the pandas.to_datetime function timeframe\n",
    "from shapely.geometry import Point  #transform latitude/longitude to geo-coordinate data\n",
    "from geopandas.tools import geocode #get the latitude/longitude for a given address\n",
    "from geopandas.tools import reverse_geocode  #get the address for a location using latitude/longitude\n",
    "\n",
    "%matplotlib inline"
   ]
  },
  {
   "cell_type": "code",
   "execution_count": 4,
   "metadata": {},
   "outputs": [],
   "source": [
    "data = pd.read_csv(\"Final_Project_Data/txt_files/taxi_2015_10.txt\", sep = '|')"
   ]
  },
  {
   "cell_type": "code",
   "execution_count": 5,
   "metadata": {},
   "outputs": [
    {
     "data": {
      "text/html": [
       "<div>\n",
       "<style scoped>\n",
       "    .dataframe tbody tr th:only-of-type {\n",
       "        vertical-align: middle;\n",
       "    }\n",
       "\n",
       "    .dataframe tbody tr th {\n",
       "        vertical-align: top;\n",
       "    }\n",
       "\n",
       "    .dataframe thead th {\n",
       "        text-align: right;\n",
       "    }\n",
       "</style>\n",
       "<table border=\"1\" class=\"dataframe\">\n",
       "  <thead>\n",
       "    <tr style=\"text-align: right;\">\n",
       "      <th></th>\n",
       "      <th>OBJECTID</th>\n",
       "      <th>TRIPTYPE</th>\n",
       "      <th>PROVIDERNAME</th>\n",
       "      <th>FAREAMOUNT</th>\n",
       "      <th>GRATUITYAMOUNT</th>\n",
       "      <th>SURCHARGEAMOUNT</th>\n",
       "      <th>EXTRAFAREAMOUNT</th>\n",
       "      <th>TOLLAMOUNT</th>\n",
       "      <th>TOTALAMOUNT</th>\n",
       "      <th>PAYMENTTYPE</th>\n",
       "      <th>...</th>\n",
       "      <th>DURATION</th>\n",
       "      <th>ORIGIN_BLOCK_LATITUDE</th>\n",
       "      <th>ORIGIN_BLOCK_LONGITUDE</th>\n",
       "      <th>ORIGIN_BLOCKNAME</th>\n",
       "      <th>DESTINATION_BLOCK_LATITUDE</th>\n",
       "      <th>DESTINATION_BLOCK_LONGITUDE</th>\n",
       "      <th>DESTINATION_BLOCKNAME</th>\n",
       "      <th>AIRPORT</th>\n",
       "      <th>ORIGINDATETIME_TR</th>\n",
       "      <th>DESTINATIONDATETIME_TR</th>\n",
       "    </tr>\n",
       "  </thead>\n",
       "  <tbody>\n",
       "    <tr>\n",
       "      <th>0</th>\n",
       "      <td>7606919</td>\n",
       "      <td>1</td>\n",
       "      <td>VeriFone</td>\n",
       "      <td>7.57</td>\n",
       "      <td>0.00</td>\n",
       "      <td>0.25</td>\n",
       "      <td>0.0</td>\n",
       "      <td>0.0</td>\n",
       "      <td>7.82</td>\n",
       "      <td>2</td>\n",
       "      <td>...</td>\n",
       "      <td>8.0</td>\n",
       "      <td>38.905262</td>\n",
       "      <td>-77.048141</td>\n",
       "      <td>2110 - 2199 BLOCK OF M STREET NW</td>\n",
       "      <td>38.915932</td>\n",
       "      <td>-77.041657</td>\n",
       "      <td>1900 - 1923 BLOCK OF 18TH STREET NW</td>\n",
       "      <td>N</td>\n",
       "      <td>10/01/2015 00:00</td>\n",
       "      <td>10/01/2015 00:00</td>\n",
       "    </tr>\n",
       "    <tr>\n",
       "      <th>1</th>\n",
       "      <td>7611417</td>\n",
       "      <td>1</td>\n",
       "      <td>VeriFone</td>\n",
       "      <td>85.60</td>\n",
       "      <td>0.00</td>\n",
       "      <td>0.25</td>\n",
       "      <td>4.0</td>\n",
       "      <td>0.0</td>\n",
       "      <td>89.85</td>\n",
       "      <td>2</td>\n",
       "      <td>...</td>\n",
       "      <td>47.0</td>\n",
       "      <td>NaN</td>\n",
       "      <td>NaN</td>\n",
       "      <td>NaN</td>\n",
       "      <td>NaN</td>\n",
       "      <td>NaN</td>\n",
       "      <td>NaN</td>\n",
       "      <td>Y</td>\n",
       "      <td>10/01/2015 00:00</td>\n",
       "      <td>10/01/2015 00:00</td>\n",
       "    </tr>\n",
       "    <tr>\n",
       "      <th>2</th>\n",
       "      <td>7611418</td>\n",
       "      <td>1</td>\n",
       "      <td>Transco</td>\n",
       "      <td>21.34</td>\n",
       "      <td>0.00</td>\n",
       "      <td>0.25</td>\n",
       "      <td>2.0</td>\n",
       "      <td>0.0</td>\n",
       "      <td>23.59</td>\n",
       "      <td>2</td>\n",
       "      <td>...</td>\n",
       "      <td>17.0</td>\n",
       "      <td>38.902147</td>\n",
       "      <td>-76.935628</td>\n",
       "      <td>900 - 999 BLOCK OF 47TH STREET NE</td>\n",
       "      <td>NaN</td>\n",
       "      <td>NaN</td>\n",
       "      <td>NaN</td>\n",
       "      <td>N</td>\n",
       "      <td>10/01/2015 00:00</td>\n",
       "      <td>10/01/2015 00:00</td>\n",
       "    </tr>\n",
       "    <tr>\n",
       "      <th>3</th>\n",
       "      <td>7611419</td>\n",
       "      <td>1</td>\n",
       "      <td>Transco</td>\n",
       "      <td>20.80</td>\n",
       "      <td>4.21</td>\n",
       "      <td>0.25</td>\n",
       "      <td>0.0</td>\n",
       "      <td>0.0</td>\n",
       "      <td>25.26</td>\n",
       "      <td>1</td>\n",
       "      <td>...</td>\n",
       "      <td>25.0</td>\n",
       "      <td>38.897204</td>\n",
       "      <td>-77.008388</td>\n",
       "      <td>1 - 99 BLOCK OF MASSACHUSETTS AVENUE NE</td>\n",
       "      <td>38.931526</td>\n",
       "      <td>-77.101094</td>\n",
       "      <td>5000 - 5098 BLOCK OF KLINGLE STREET NW</td>\n",
       "      <td>N</td>\n",
       "      <td>10/01/2015 00:00</td>\n",
       "      <td>10/01/2015 00:00</td>\n",
       "    </tr>\n",
       "    <tr>\n",
       "      <th>4</th>\n",
       "      <td>7626639</td>\n",
       "      <td>1</td>\n",
       "      <td>DC VIP Cab</td>\n",
       "      <td>7.03</td>\n",
       "      <td>0.00</td>\n",
       "      <td>0.25</td>\n",
       "      <td>0.0</td>\n",
       "      <td>0.0</td>\n",
       "      <td>7.28</td>\n",
       "      <td>2</td>\n",
       "      <td>...</td>\n",
       "      <td>7.0</td>\n",
       "      <td>38.952536</td>\n",
       "      <td>-77.003107</td>\n",
       "      <td>100 - 299 BLOCK OF GALLOWAY STREET NE</td>\n",
       "      <td>NaN</td>\n",
       "      <td>NaN</td>\n",
       "      <td>NaN</td>\n",
       "      <td>N</td>\n",
       "      <td>10/01/2015 00:00</td>\n",
       "      <td>10/01/2015 00:00</td>\n",
       "    </tr>\n",
       "  </tbody>\n",
       "</table>\n",
       "<p>5 rows × 27 columns</p>\n",
       "</div>"
      ],
      "text/plain": [
       "   OBJECTID  TRIPTYPE PROVIDERNAME  FAREAMOUNT  GRATUITYAMOUNT  \\\n",
       "0   7606919         1     VeriFone        7.57            0.00   \n",
       "1   7611417         1     VeriFone       85.60            0.00   \n",
       "2   7611418         1      Transco       21.34            0.00   \n",
       "3   7611419         1      Transco       20.80            4.21   \n",
       "4   7626639         1   DC VIP Cab        7.03            0.00   \n",
       "\n",
       "   SURCHARGEAMOUNT  EXTRAFAREAMOUNT  TOLLAMOUNT  TOTALAMOUNT  PAYMENTTYPE  \\\n",
       "0             0.25              0.0         0.0         7.82            2   \n",
       "1             0.25              4.0         0.0        89.85            2   \n",
       "2             0.25              2.0         0.0        23.59            2   \n",
       "3             0.25              0.0         0.0        25.26            1   \n",
       "4             0.25              0.0         0.0         7.28            2   \n",
       "\n",
       "   ... DURATION ORIGIN_BLOCK_LATITUDE  ORIGIN_BLOCK_LONGITUDE  \\\n",
       "0  ...      8.0             38.905262              -77.048141   \n",
       "1  ...     47.0                   NaN                     NaN   \n",
       "2  ...     17.0             38.902147              -76.935628   \n",
       "3  ...     25.0             38.897204              -77.008388   \n",
       "4  ...      7.0             38.952536              -77.003107   \n",
       "\n",
       "                          ORIGIN_BLOCKNAME DESTINATION_BLOCK_LATITUDE  \\\n",
       "0         2110 - 2199 BLOCK OF M STREET NW                  38.915932   \n",
       "1                                      NaN                        NaN   \n",
       "2        900 - 999 BLOCK OF 47TH STREET NE                        NaN   \n",
       "3  1 - 99 BLOCK OF MASSACHUSETTS AVENUE NE                  38.931526   \n",
       "4    100 - 299 BLOCK OF GALLOWAY STREET NE                        NaN   \n",
       "\n",
       "   DESTINATION_BLOCK_LONGITUDE                   DESTINATION_BLOCKNAME  \\\n",
       "0                   -77.041657     1900 - 1923 BLOCK OF 18TH STREET NW   \n",
       "1                          NaN                                     NaN   \n",
       "2                          NaN                                     NaN   \n",
       "3                   -77.101094  5000 - 5098 BLOCK OF KLINGLE STREET NW   \n",
       "4                          NaN                                     NaN   \n",
       "\n",
       "   AIRPORT  ORIGINDATETIME_TR  DESTINATIONDATETIME_TR  \n",
       "0        N   10/01/2015 00:00        10/01/2015 00:00  \n",
       "1        Y   10/01/2015 00:00        10/01/2015 00:00  \n",
       "2        N   10/01/2015 00:00        10/01/2015 00:00  \n",
       "3        N   10/01/2015 00:00        10/01/2015 00:00  \n",
       "4        N   10/01/2015 00:00        10/01/2015 00:00  \n",
       "\n",
       "[5 rows x 27 columns]"
      ]
     },
     "execution_count": 5,
     "metadata": {},
     "output_type": "execute_result"
    }
   ],
   "source": [
    "data.head()"
   ]
  },
  {
   "cell_type": "code",
   "execution_count": 6,
   "metadata": {},
   "outputs": [
    {
     "data": {
      "text/plain": [
       "OBJECTID                            0\n",
       "TRIPTYPE                            0\n",
       "PROVIDERNAME                        0\n",
       "FAREAMOUNT                        186\n",
       "GRATUITYAMOUNT                      0\n",
       "SURCHARGEAMOUNT                     0\n",
       "EXTRAFAREAMOUNT                     0\n",
       "TOLLAMOUNT                          0\n",
       "TOTALAMOUNT                         0\n",
       "PAYMENTTYPE                         0\n",
       "ORIGINCITY                     365380\n",
       "ORIGINSTATE                    347891\n",
       "ORIGINZIP                           0\n",
       "DESTINATIONCITY                397107\n",
       "DESTINATIONSTATE               360568\n",
       "DESTINATIONZIP                      0\n",
       "MILEAGE                         13052\n",
       "DURATION                       227524\n",
       "ORIGIN_BLOCK_LATITUDE          189592\n",
       "ORIGIN_BLOCK_LONGITUDE         189592\n",
       "ORIGIN_BLOCKNAME               189592\n",
       "DESTINATION_BLOCK_LATITUDE     315562\n",
       "DESTINATION_BLOCK_LONGITUDE    315562\n",
       "DESTINATION_BLOCKNAME          315562\n",
       "AIRPORT                             0\n",
       "ORIGINDATETIME_TR                   0\n",
       "DESTINATIONDATETIME_TR            101\n",
       "dtype: int64"
      ]
     },
     "execution_count": 6,
     "metadata": {},
     "output_type": "execute_result"
    }
   ],
   "source": [
    "data.isna().sum()"
   ]
  },
  {
   "cell_type": "code",
   "execution_count": 7,
   "metadata": {},
   "outputs": [],
   "source": [
    "data = data.dropna()"
   ]
  },
  {
   "cell_type": "code",
   "execution_count": 8,
   "metadata": {},
   "outputs": [
    {
     "data": {
      "text/plain": [
       "711329"
      ]
     },
     "execution_count": 8,
     "metadata": {},
     "output_type": "execute_result"
    }
   ],
   "source": [
    "len(data)"
   ]
  },
  {
   "cell_type": "code",
   "execution_count": 9,
   "metadata": {},
   "outputs": [
    {
     "data": {
      "text/html": [
       "<div>\n",
       "<style scoped>\n",
       "    .dataframe tbody tr th:only-of-type {\n",
       "        vertical-align: middle;\n",
       "    }\n",
       "\n",
       "    .dataframe tbody tr th {\n",
       "        vertical-align: top;\n",
       "    }\n",
       "\n",
       "    .dataframe thead th {\n",
       "        text-align: right;\n",
       "    }\n",
       "</style>\n",
       "<table border=\"1\" class=\"dataframe\">\n",
       "  <thead>\n",
       "    <tr style=\"text-align: right;\">\n",
       "      <th></th>\n",
       "      <th>OBJECTID</th>\n",
       "      <th>TRIPTYPE</th>\n",
       "      <th>PROVIDERNAME</th>\n",
       "      <th>FAREAMOUNT</th>\n",
       "      <th>GRATUITYAMOUNT</th>\n",
       "      <th>SURCHARGEAMOUNT</th>\n",
       "      <th>EXTRAFAREAMOUNT</th>\n",
       "      <th>TOLLAMOUNT</th>\n",
       "      <th>TOTALAMOUNT</th>\n",
       "      <th>PAYMENTTYPE</th>\n",
       "      <th>...</th>\n",
       "      <th>ORIGIN_BLOCK_LONGITUDE</th>\n",
       "      <th>ORIGIN_BLOCKNAME</th>\n",
       "      <th>DESTINATION_BLOCK_LATITUDE</th>\n",
       "      <th>DESTINATION_BLOCK_LONGITUDE</th>\n",
       "      <th>DESTINATION_BLOCKNAME</th>\n",
       "      <th>AIRPORT</th>\n",
       "      <th>ORIGINDATETIME_TR</th>\n",
       "      <th>DESTINATIONDATETIME_TR</th>\n",
       "      <th>origin_time</th>\n",
       "      <th>dest_time</th>\n",
       "    </tr>\n",
       "  </thead>\n",
       "  <tbody>\n",
       "    <tr>\n",
       "      <th>0</th>\n",
       "      <td>7606919</td>\n",
       "      <td>1</td>\n",
       "      <td>VeriFone</td>\n",
       "      <td>7.57</td>\n",
       "      <td>0.00</td>\n",
       "      <td>0.25</td>\n",
       "      <td>0.0</td>\n",
       "      <td>0.0</td>\n",
       "      <td>7.82</td>\n",
       "      <td>2</td>\n",
       "      <td>...</td>\n",
       "      <td>-77.048141</td>\n",
       "      <td>2110 - 2199 BLOCK OF M STREET NW</td>\n",
       "      <td>38.915932</td>\n",
       "      <td>-77.041657</td>\n",
       "      <td>1900 - 1923 BLOCK OF 18TH STREET NW</td>\n",
       "      <td>N</td>\n",
       "      <td>10/01/2015 00:00</td>\n",
       "      <td>10/01/2015 00:00</td>\n",
       "      <td>2015-10-01 00:00:00</td>\n",
       "      <td>2015-10-01 00:00:00</td>\n",
       "    </tr>\n",
       "    <tr>\n",
       "      <th>3</th>\n",
       "      <td>7611419</td>\n",
       "      <td>1</td>\n",
       "      <td>Transco</td>\n",
       "      <td>20.80</td>\n",
       "      <td>4.21</td>\n",
       "      <td>0.25</td>\n",
       "      <td>0.0</td>\n",
       "      <td>0.0</td>\n",
       "      <td>25.26</td>\n",
       "      <td>1</td>\n",
       "      <td>...</td>\n",
       "      <td>-77.008388</td>\n",
       "      <td>1 - 99 BLOCK OF MASSACHUSETTS AVENUE NE</td>\n",
       "      <td>38.931526</td>\n",
       "      <td>-77.101094</td>\n",
       "      <td>5000 - 5098 BLOCK OF KLINGLE STREET NW</td>\n",
       "      <td>N</td>\n",
       "      <td>10/01/2015 00:00</td>\n",
       "      <td>10/01/2015 00:00</td>\n",
       "      <td>2015-10-01 00:00:00</td>\n",
       "      <td>2015-10-01 00:00:00</td>\n",
       "    </tr>\n",
       "    <tr>\n",
       "      <th>5</th>\n",
       "      <td>7666002</td>\n",
       "      <td>1</td>\n",
       "      <td>Hitch</td>\n",
       "      <td>14.47</td>\n",
       "      <td>0.00</td>\n",
       "      <td>0.25</td>\n",
       "      <td>0.0</td>\n",
       "      <td>0.0</td>\n",
       "      <td>14.47</td>\n",
       "      <td>1</td>\n",
       "      <td>...</td>\n",
       "      <td>-77.031953</td>\n",
       "      <td>1800 - 1823 BLOCK OF 14TH STREET NW</td>\n",
       "      <td>38.898048</td>\n",
       "      <td>-77.051799</td>\n",
       "      <td>2400 - 2448 BLOCK OF VIRGINIA AVENUE NW</td>\n",
       "      <td>N</td>\n",
       "      <td>10/31/2015 02:00</td>\n",
       "      <td>10/31/2015 02:00</td>\n",
       "      <td>2015-10-31 02:00:00</td>\n",
       "      <td>2015-10-31 02:00:00</td>\n",
       "    </tr>\n",
       "    <tr>\n",
       "      <th>6</th>\n",
       "      <td>7666003</td>\n",
       "      <td>1</td>\n",
       "      <td>Hitch</td>\n",
       "      <td>14.27</td>\n",
       "      <td>0.00</td>\n",
       "      <td>0.25</td>\n",
       "      <td>0.0</td>\n",
       "      <td>0.0</td>\n",
       "      <td>14.27</td>\n",
       "      <td>1</td>\n",
       "      <td>...</td>\n",
       "      <td>-77.031952</td>\n",
       "      <td>1820 - 1899 BLOCK OF 14TH STREET NW</td>\n",
       "      <td>38.890939</td>\n",
       "      <td>-77.002779</td>\n",
       "      <td>200 - 299 BLOCK OF A STREET NE</td>\n",
       "      <td>N</td>\n",
       "      <td>10/31/2015 02:00</td>\n",
       "      <td>10/31/2015 02:00</td>\n",
       "      <td>2015-10-31 02:00:00</td>\n",
       "      <td>2015-10-31 02:00:00</td>\n",
       "    </tr>\n",
       "    <tr>\n",
       "      <th>11</th>\n",
       "      <td>7666008</td>\n",
       "      <td>1</td>\n",
       "      <td>Hitch</td>\n",
       "      <td>13.50</td>\n",
       "      <td>0.00</td>\n",
       "      <td>0.25</td>\n",
       "      <td>0.0</td>\n",
       "      <td>0.0</td>\n",
       "      <td>13.50</td>\n",
       "      <td>1</td>\n",
       "      <td>...</td>\n",
       "      <td>-77.041683</td>\n",
       "      <td>1200 - 1217 BLOCK OF 18TH STREET NW</td>\n",
       "      <td>38.919667</td>\n",
       "      <td>-77.071037</td>\n",
       "      <td>2200 - 2298 BLOCK OF WISCONSIN AVENUE NW</td>\n",
       "      <td>N</td>\n",
       "      <td>10/31/2015 02:00</td>\n",
       "      <td>10/31/2015 02:00</td>\n",
       "      <td>2015-10-31 02:00:00</td>\n",
       "      <td>2015-10-31 02:00:00</td>\n",
       "    </tr>\n",
       "  </tbody>\n",
       "</table>\n",
       "<p>5 rows × 29 columns</p>\n",
       "</div>"
      ],
      "text/plain": [
       "    OBJECTID  TRIPTYPE PROVIDERNAME  FAREAMOUNT  GRATUITYAMOUNT  \\\n",
       "0    7606919         1     VeriFone        7.57            0.00   \n",
       "3    7611419         1      Transco       20.80            4.21   \n",
       "5    7666002         1        Hitch       14.47            0.00   \n",
       "6    7666003         1        Hitch       14.27            0.00   \n",
       "11   7666008         1        Hitch       13.50            0.00   \n",
       "\n",
       "    SURCHARGEAMOUNT  EXTRAFAREAMOUNT  TOLLAMOUNT  TOTALAMOUNT  PAYMENTTYPE  \\\n",
       "0              0.25              0.0         0.0         7.82            2   \n",
       "3              0.25              0.0         0.0        25.26            1   \n",
       "5              0.25              0.0         0.0        14.47            1   \n",
       "6              0.25              0.0         0.0        14.27            1   \n",
       "11             0.25              0.0         0.0        13.50            1   \n",
       "\n",
       "    ... ORIGIN_BLOCK_LONGITUDE                         ORIGIN_BLOCKNAME  \\\n",
       "0   ...             -77.048141         2110 - 2199 BLOCK OF M STREET NW   \n",
       "3   ...             -77.008388  1 - 99 BLOCK OF MASSACHUSETTS AVENUE NE   \n",
       "5   ...             -77.031953      1800 - 1823 BLOCK OF 14TH STREET NW   \n",
       "6   ...             -77.031952      1820 - 1899 BLOCK OF 14TH STREET NW   \n",
       "11  ...             -77.041683      1200 - 1217 BLOCK OF 18TH STREET NW   \n",
       "\n",
       "    DESTINATION_BLOCK_LATITUDE DESTINATION_BLOCK_LONGITUDE  \\\n",
       "0                    38.915932                  -77.041657   \n",
       "3                    38.931526                  -77.101094   \n",
       "5                    38.898048                  -77.051799   \n",
       "6                    38.890939                  -77.002779   \n",
       "11                   38.919667                  -77.071037   \n",
       "\n",
       "                       DESTINATION_BLOCKNAME  AIRPORT  ORIGINDATETIME_TR  \\\n",
       "0        1900 - 1923 BLOCK OF 18TH STREET NW        N   10/01/2015 00:00   \n",
       "3     5000 - 5098 BLOCK OF KLINGLE STREET NW        N   10/01/2015 00:00   \n",
       "5    2400 - 2448 BLOCK OF VIRGINIA AVENUE NW        N   10/31/2015 02:00   \n",
       "6             200 - 299 BLOCK OF A STREET NE        N   10/31/2015 02:00   \n",
       "11  2200 - 2298 BLOCK OF WISCONSIN AVENUE NW        N   10/31/2015 02:00   \n",
       "\n",
       "    DESTINATIONDATETIME_TR         origin_time           dest_time  \n",
       "0         10/01/2015 00:00 2015-10-01 00:00:00 2015-10-01 00:00:00  \n",
       "3         10/01/2015 00:00 2015-10-01 00:00:00 2015-10-01 00:00:00  \n",
       "5         10/31/2015 02:00 2015-10-31 02:00:00 2015-10-31 02:00:00  \n",
       "6         10/31/2015 02:00 2015-10-31 02:00:00 2015-10-31 02:00:00  \n",
       "11        10/31/2015 02:00 2015-10-31 02:00:00 2015-10-31 02:00:00  \n",
       "\n",
       "[5 rows x 29 columns]"
      ]
     },
     "execution_count": 9,
     "metadata": {},
     "output_type": "execute_result"
    }
   ],
   "source": [
    "data['origin_time'] = pd.to_datetime(data['ORIGINDATETIME_TR'])\n",
    "data['dest_time'] = pd.to_datetime(data['DESTINATIONDATETIME_TR'])\n",
    "data.head()"
   ]
  },
  {
   "cell_type": "code",
   "execution_count": 10,
   "metadata": {},
   "outputs": [
    {
     "data": {
      "text/html": [
       "<div>\n",
       "<style scoped>\n",
       "    .dataframe tbody tr th:only-of-type {\n",
       "        vertical-align: middle;\n",
       "    }\n",
       "\n",
       "    .dataframe tbody tr th {\n",
       "        vertical-align: top;\n",
       "    }\n",
       "\n",
       "    .dataframe thead th {\n",
       "        text-align: right;\n",
       "    }\n",
       "</style>\n",
       "<table border=\"1\" class=\"dataframe\">\n",
       "  <thead>\n",
       "    <tr style=\"text-align: right;\">\n",
       "      <th></th>\n",
       "      <th>OBJECTID</th>\n",
       "      <th>TRIPTYPE</th>\n",
       "      <th>PROVIDERNAME</th>\n",
       "      <th>FAREAMOUNT</th>\n",
       "      <th>GRATUITYAMOUNT</th>\n",
       "      <th>SURCHARGEAMOUNT</th>\n",
       "      <th>EXTRAFAREAMOUNT</th>\n",
       "      <th>TOLLAMOUNT</th>\n",
       "      <th>TOTALAMOUNT</th>\n",
       "      <th>PAYMENTTYPE</th>\n",
       "      <th>...</th>\n",
       "      <th>DURATION</th>\n",
       "      <th>ORIGIN_BLOCK_LATITUDE</th>\n",
       "      <th>ORIGIN_BLOCK_LONGITUDE</th>\n",
       "      <th>ORIGIN_BLOCKNAME</th>\n",
       "      <th>DESTINATION_BLOCK_LATITUDE</th>\n",
       "      <th>DESTINATION_BLOCK_LONGITUDE</th>\n",
       "      <th>DESTINATION_BLOCKNAME</th>\n",
       "      <th>AIRPORT</th>\n",
       "      <th>origin_time</th>\n",
       "      <th>dest_time</th>\n",
       "    </tr>\n",
       "  </thead>\n",
       "  <tbody>\n",
       "    <tr>\n",
       "      <th>0</th>\n",
       "      <td>7606919</td>\n",
       "      <td>1</td>\n",
       "      <td>VeriFone</td>\n",
       "      <td>7.57</td>\n",
       "      <td>0.00</td>\n",
       "      <td>0.25</td>\n",
       "      <td>0.0</td>\n",
       "      <td>0.0</td>\n",
       "      <td>7.82</td>\n",
       "      <td>2</td>\n",
       "      <td>...</td>\n",
       "      <td>8.0</td>\n",
       "      <td>38.905262</td>\n",
       "      <td>-77.048141</td>\n",
       "      <td>2110 - 2199 BLOCK OF M STREET NW</td>\n",
       "      <td>38.915932</td>\n",
       "      <td>-77.041657</td>\n",
       "      <td>1900 - 1923 BLOCK OF 18TH STREET NW</td>\n",
       "      <td>N</td>\n",
       "      <td>2015-10-01 00:00:00</td>\n",
       "      <td>2015-10-01 00:00:00</td>\n",
       "    </tr>\n",
       "    <tr>\n",
       "      <th>3</th>\n",
       "      <td>7611419</td>\n",
       "      <td>1</td>\n",
       "      <td>Transco</td>\n",
       "      <td>20.80</td>\n",
       "      <td>4.21</td>\n",
       "      <td>0.25</td>\n",
       "      <td>0.0</td>\n",
       "      <td>0.0</td>\n",
       "      <td>25.26</td>\n",
       "      <td>1</td>\n",
       "      <td>...</td>\n",
       "      <td>25.0</td>\n",
       "      <td>38.897204</td>\n",
       "      <td>-77.008388</td>\n",
       "      <td>1 - 99 BLOCK OF MASSACHUSETTS AVENUE NE</td>\n",
       "      <td>38.931526</td>\n",
       "      <td>-77.101094</td>\n",
       "      <td>5000 - 5098 BLOCK OF KLINGLE STREET NW</td>\n",
       "      <td>N</td>\n",
       "      <td>2015-10-01 00:00:00</td>\n",
       "      <td>2015-10-01 00:00:00</td>\n",
       "    </tr>\n",
       "    <tr>\n",
       "      <th>5</th>\n",
       "      <td>7666002</td>\n",
       "      <td>1</td>\n",
       "      <td>Hitch</td>\n",
       "      <td>14.47</td>\n",
       "      <td>0.00</td>\n",
       "      <td>0.25</td>\n",
       "      <td>0.0</td>\n",
       "      <td>0.0</td>\n",
       "      <td>14.47</td>\n",
       "      <td>1</td>\n",
       "      <td>...</td>\n",
       "      <td>13.0</td>\n",
       "      <td>38.914462</td>\n",
       "      <td>-77.031953</td>\n",
       "      <td>1800 - 1823 BLOCK OF 14TH STREET NW</td>\n",
       "      <td>38.898048</td>\n",
       "      <td>-77.051799</td>\n",
       "      <td>2400 - 2448 BLOCK OF VIRGINIA AVENUE NW</td>\n",
       "      <td>N</td>\n",
       "      <td>2015-10-31 02:00:00</td>\n",
       "      <td>2015-10-31 02:00:00</td>\n",
       "    </tr>\n",
       "    <tr>\n",
       "      <th>6</th>\n",
       "      <td>7666003</td>\n",
       "      <td>1</td>\n",
       "      <td>Hitch</td>\n",
       "      <td>14.27</td>\n",
       "      <td>0.00</td>\n",
       "      <td>0.25</td>\n",
       "      <td>0.0</td>\n",
       "      <td>0.0</td>\n",
       "      <td>14.27</td>\n",
       "      <td>1</td>\n",
       "      <td>...</td>\n",
       "      <td>15.0</td>\n",
       "      <td>38.915200</td>\n",
       "      <td>-77.031952</td>\n",
       "      <td>1820 - 1899 BLOCK OF 14TH STREET NW</td>\n",
       "      <td>38.890939</td>\n",
       "      <td>-77.002779</td>\n",
       "      <td>200 - 299 BLOCK OF A STREET NE</td>\n",
       "      <td>N</td>\n",
       "      <td>2015-10-31 02:00:00</td>\n",
       "      <td>2015-10-31 02:00:00</td>\n",
       "    </tr>\n",
       "    <tr>\n",
       "      <th>11</th>\n",
       "      <td>7666008</td>\n",
       "      <td>1</td>\n",
       "      <td>Hitch</td>\n",
       "      <td>13.50</td>\n",
       "      <td>0.00</td>\n",
       "      <td>0.25</td>\n",
       "      <td>0.0</td>\n",
       "      <td>0.0</td>\n",
       "      <td>13.50</td>\n",
       "      <td>1</td>\n",
       "      <td>...</td>\n",
       "      <td>12.0</td>\n",
       "      <td>38.906064</td>\n",
       "      <td>-77.041683</td>\n",
       "      <td>1200 - 1217 BLOCK OF 18TH STREET NW</td>\n",
       "      <td>38.919667</td>\n",
       "      <td>-77.071037</td>\n",
       "      <td>2200 - 2298 BLOCK OF WISCONSIN AVENUE NW</td>\n",
       "      <td>N</td>\n",
       "      <td>2015-10-31 02:00:00</td>\n",
       "      <td>2015-10-31 02:00:00</td>\n",
       "    </tr>\n",
       "  </tbody>\n",
       "</table>\n",
       "<p>5 rows × 27 columns</p>\n",
       "</div>"
      ],
      "text/plain": [
       "    OBJECTID  TRIPTYPE PROVIDERNAME  FAREAMOUNT  GRATUITYAMOUNT  \\\n",
       "0    7606919         1     VeriFone        7.57            0.00   \n",
       "3    7611419         1      Transco       20.80            4.21   \n",
       "5    7666002         1        Hitch       14.47            0.00   \n",
       "6    7666003         1        Hitch       14.27            0.00   \n",
       "11   7666008         1        Hitch       13.50            0.00   \n",
       "\n",
       "    SURCHARGEAMOUNT  EXTRAFAREAMOUNT  TOLLAMOUNT  TOTALAMOUNT  PAYMENTTYPE  \\\n",
       "0              0.25              0.0         0.0         7.82            2   \n",
       "3              0.25              0.0         0.0        25.26            1   \n",
       "5              0.25              0.0         0.0        14.47            1   \n",
       "6              0.25              0.0         0.0        14.27            1   \n",
       "11             0.25              0.0         0.0        13.50            1   \n",
       "\n",
       "    ... DURATION ORIGIN_BLOCK_LATITUDE  ORIGIN_BLOCK_LONGITUDE  \\\n",
       "0   ...      8.0             38.905262              -77.048141   \n",
       "3   ...     25.0             38.897204              -77.008388   \n",
       "5   ...     13.0             38.914462              -77.031953   \n",
       "6   ...     15.0             38.915200              -77.031952   \n",
       "11  ...     12.0             38.906064              -77.041683   \n",
       "\n",
       "                           ORIGIN_BLOCKNAME DESTINATION_BLOCK_LATITUDE  \\\n",
       "0          2110 - 2199 BLOCK OF M STREET NW                  38.915932   \n",
       "3   1 - 99 BLOCK OF MASSACHUSETTS AVENUE NE                  38.931526   \n",
       "5       1800 - 1823 BLOCK OF 14TH STREET NW                  38.898048   \n",
       "6       1820 - 1899 BLOCK OF 14TH STREET NW                  38.890939   \n",
       "11      1200 - 1217 BLOCK OF 18TH STREET NW                  38.919667   \n",
       "\n",
       "    DESTINATION_BLOCK_LONGITUDE                     DESTINATION_BLOCKNAME  \\\n",
       "0                    -77.041657       1900 - 1923 BLOCK OF 18TH STREET NW   \n",
       "3                    -77.101094    5000 - 5098 BLOCK OF KLINGLE STREET NW   \n",
       "5                    -77.051799   2400 - 2448 BLOCK OF VIRGINIA AVENUE NW   \n",
       "6                    -77.002779            200 - 299 BLOCK OF A STREET NE   \n",
       "11                   -77.071037  2200 - 2298 BLOCK OF WISCONSIN AVENUE NW   \n",
       "\n",
       "    AIRPORT         origin_time           dest_time  \n",
       "0         N 2015-10-01 00:00:00 2015-10-01 00:00:00  \n",
       "3         N 2015-10-01 00:00:00 2015-10-01 00:00:00  \n",
       "5         N 2015-10-31 02:00:00 2015-10-31 02:00:00  \n",
       "6         N 2015-10-31 02:00:00 2015-10-31 02:00:00  \n",
       "11        N 2015-10-31 02:00:00 2015-10-31 02:00:00  \n",
       "\n",
       "[5 rows x 27 columns]"
      ]
     },
     "execution_count": 10,
     "metadata": {},
     "output_type": "execute_result"
    }
   ],
   "source": [
    "data = data.drop(['ORIGINDATETIME_TR', 'DESTINATIONDATETIME_TR'], axis = 1)\n",
    "data.head()"
   ]
  },
  {
   "cell_type": "code",
   "execution_count": 11,
   "metadata": {},
   "outputs": [],
   "source": [
    "time_dict = {}\n",
    "\n",
    "for x in data['origin_time']: \n",
    "    if x in time_dict: \n",
    "        time_dict[x] += 1 \n",
    "    else: \n",
    "        time_dict[x] = 1 "
   ]
  },
  {
   "cell_type": "code",
   "execution_count": 12,
   "metadata": {},
   "outputs": [],
   "source": [
    "time_df = pd.DataFrame.from_dict(time_dict, orient = 'index')"
   ]
  },
  {
   "cell_type": "code",
   "execution_count": 13,
   "metadata": {},
   "outputs": [],
   "source": [
    "time_df['ride_count'] = time_df[0]\n",
    "time_df = time_df.drop(0, axis = 1)"
   ]
  },
  {
   "cell_type": "code",
   "execution_count": 14,
   "metadata": {},
   "outputs": [
    {
     "data": {
      "text/html": [
       "<div>\n",
       "<style scoped>\n",
       "    .dataframe tbody tr th:only-of-type {\n",
       "        vertical-align: middle;\n",
       "    }\n",
       "\n",
       "    .dataframe tbody tr th {\n",
       "        vertical-align: top;\n",
       "    }\n",
       "\n",
       "    .dataframe thead th {\n",
       "        text-align: right;\n",
       "    }\n",
       "</style>\n",
       "<table border=\"1\" class=\"dataframe\">\n",
       "  <thead>\n",
       "    <tr style=\"text-align: right;\">\n",
       "      <th></th>\n",
       "      <th>ride_count</th>\n",
       "    </tr>\n",
       "  </thead>\n",
       "  <tbody>\n",
       "    <tr>\n",
       "      <th>2015-10-01 00:00:00</th>\n",
       "      <td>416</td>\n",
       "    </tr>\n",
       "    <tr>\n",
       "      <th>2015-10-31 02:00:00</th>\n",
       "      <td>1039</td>\n",
       "    </tr>\n",
       "    <tr>\n",
       "      <th>2015-10-31 01:00:00</th>\n",
       "      <td>1181</td>\n",
       "    </tr>\n",
       "    <tr>\n",
       "      <th>2015-10-31 03:00:00</th>\n",
       "      <td>544</td>\n",
       "    </tr>\n",
       "    <tr>\n",
       "      <th>2015-10-31 08:00:00</th>\n",
       "      <td>378</td>\n",
       "    </tr>\n",
       "  </tbody>\n",
       "</table>\n",
       "</div>"
      ],
      "text/plain": [
       "                     ride_count\n",
       "2015-10-01 00:00:00         416\n",
       "2015-10-31 02:00:00        1039\n",
       "2015-10-31 01:00:00        1181\n",
       "2015-10-31 03:00:00         544\n",
       "2015-10-31 08:00:00         378"
      ]
     },
     "execution_count": 14,
     "metadata": {},
     "output_type": "execute_result"
    }
   ],
   "source": [
    "time_df.head()"
   ]
  },
  {
   "cell_type": "code",
   "execution_count": 15,
   "metadata": {},
   "outputs": [
    {
     "data": {
      "text/plain": [
       "Text(0, 0.5, 'Hourly TaxiRide Count October 2015')"
      ]
     },
     "execution_count": 15,
     "metadata": {},
     "output_type": "execute_result"
    },
    {
     "data": {
      "image/png": "[encoded data removed]",
      "text/plain": [
       "<Figure size 432x288 with 1 Axes>"
      ]
     },
     "metadata": {
      "needs_background": "light"
     },
     "output_type": "display_data"
    }
   ],
   "source": [
    "#bar plot of data\n",
    "time_df.plot()\n",
    "plt.ylabel('Hourly TaxiRide Count October 2015')"
   ]
  },
  {
   "cell_type": "code",
   "execution_count": 16,
   "metadata": {},
   "outputs": [
    {
     "data": {
      "text/plain": [
       "Text(0, 0.5, 'Weekly TaxiRide Count October 2015')"
      ]
     },
     "execution_count": 16,
     "metadata": {},
     "output_type": "execute_result"
    },
    {
     "data": {
      "image/png": "[encoded data removed]",
      "text/plain": [
       "<Figure size 432x288 with 1 Axes>"
      ]
     },
     "metadata": {
      "needs_background": "light"
     },
     "output_type": "display_data"
    }
   ],
   "source": [
    "#hourly intervals are too narrow to make sense of data\n",
    "#aggregate as weekly data instead\n",
    "weekly = time_df.resample('D').sum()\n",
    "weekly.plot() #line styles for each feature\n",
    "plt.ylabel('Weekly TaxiRide Count October 2015')"
   ]
  },
  {
   "cell_type": "code",
   "execution_count": 17,
   "metadata": {},
   "outputs": [],
   "source": [
    "oct_1 = time_df.loc['2015-10-1']"
   ]
  },
  {
   "cell_type": "code",
   "execution_count": 18,
   "metadata": {},
   "outputs": [
    {
     "data": {
      "text/plain": [
       "<matplotlib.axes._subplots.AxesSubplot at 0x1d7673ccc88>"
      ]
     },
     "execution_count": 18,
     "metadata": {},
     "output_type": "execute_result"
    },
    {
     "data": {
      "image/png": "[encoded data removed]",
      "text/plain": [
       "<Figure size 432x288 with 1 Axes>"
      ]
     },
     "metadata": {
      "needs_background": "light"
     },
     "output_type": "display_data"
    }
   ],
   "source": [
    "#Thursday \n",
    "oct_1.plot()"
   ]
  },
  {
   "cell_type": "code",
   "execution_count": 19,
   "metadata": {},
   "outputs": [],
   "source": [
    "oct_2 = time_df.loc['2015-10-2']"
   ]
  },
  {
   "cell_type": "code",
   "execution_count": 21,
   "metadata": {},
   "outputs": [
    {
     "data": {
      "text/plain": [
       "<matplotlib.axes._subplots.AxesSubplot at 0x1d7672c54a8>"
      ]
     },
     "execution_count": 21,
     "metadata": {},
     "output_type": "execute_result"
    },
    {
     "data": {
      "image/png": "[encoded data removed]",
      "text/plain": [
       "<Figure size 432x288 with 1 Axes>"
      ]
     },
     "metadata": {
      "needs_background": "light"
     },
     "output_type": "display_data"
    }
   ],
   "source": [
    "#Friday \n",
    "oct_2.plot()"
   ]
  },
  {
   "cell_type": "code",
   "execution_count": 22,
   "metadata": {},
   "outputs": [],
   "source": [
    "oct_3 = time_df.loc['2015-10-3']"
   ]
  },
  {
   "cell_type": "code",
   "execution_count": 23,
   "metadata": {},
   "outputs": [
    {
     "data": {
      "text/plain": [
       "<matplotlib.axes._subplots.AxesSubplot at 0x1d7669e4e10>"
      ]
     },
     "execution_count": 23,
     "metadata": {},
     "output_type": "execute_result"
    },
    {
     "data": {
      "image/png": "[encoded data removed]",
      "text/plain": [
       "<Figure size 432x288 with 1 Axes>"
      ]
     },
     "metadata": {
      "needs_background": "light"
     },
     "output_type": "display_data"
    }
   ],
   "source": [
    "#Saturday \n",
    "oct_3.plot()"
   ]
  },
  {
   "cell_type": "code",
   "execution_count": 24,
   "metadata": {},
   "outputs": [],
   "source": [
    "oct_4 = time_df.loc['2015-10-4']"
   ]
  },
  {
   "cell_type": "code",
   "execution_count": 25,
   "metadata": {},
   "outputs": [
    {
     "data": {
      "text/plain": [
       "<matplotlib.axes._subplots.AxesSubplot at 0x1d76654fbe0>"
      ]
     },
     "execution_count": 25,
     "metadata": {},
     "output_type": "execute_result"
    },
    {
     "data": {
      "image/png": "[encoded data removed]",
      "text/plain": [
       "<Figure size 432x288 with 1 Axes>"
      ]
     },
     "metadata": {
      "needs_background": "light"
     },
     "output_type": "display_data"
    }
   ],
   "source": [
    "#Sunday\n",
    "oct_4.plot()"
   ]
  },
  {
   "cell_type": "code",
   "execution_count": null,
   "metadata": {},
   "outputs": [],
   "source": []
  }
 ],
 "metadata": {
  "kernelspec": {
   "display_name": "Python 3",
   "language": "python",
   "name": "python3"
  },
  "language_info": {
   "codemirror_mode": {
    "name": "ipython",
    "version": 3
   },
   "file_extension": ".py",
   "mimetype": "text/x-python",
   "name": "python",
   "nbconvert_exporter": "python",
   "pygments_lexer": "ipython3",
   "version": "3.7.3"
  }
 },
 "nbformat": 4,
 "nbformat_minor": 2
}
